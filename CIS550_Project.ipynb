{
  "nbformat": 4,
  "nbformat_minor": 0,
  "metadata": {
    "colab": {
      "provenance": [],
      "include_colab_link": true
    },
    "kernelspec": {
      "name": "python3",
      "display_name": "Python 3"
    },
    "language_info": {
      "name": "python"
    }
  },
  "cells": [
    {
      "cell_type": "markdown",
      "metadata": {
        "id": "view-in-github",
        "colab_type": "text"
      },
      "source": [
        "<a href=\"https://colab.research.google.com/github/weilongzhang27/NGA-website/blob/main/CIS550_Project.ipynb\" target=\"_parent\"><img src=\"https://colab.research.google.com/assets/colab-badge.svg\" alt=\"Open In Colab\"/></a>"
      ]
    },
    {
      "cell_type": "markdown",
      "source": [
        "Import data to objects"
      ],
      "metadata": {
        "id": "l-Bakccy2Uhr"
      }
    },
    {
      "cell_type": "code",
      "execution_count": 1,
      "metadata": {
        "id": "Q3gHob2EymMB"
      },
      "outputs": [],
      "source": [
        "import pandas as pd\n",
        "import numpy as np\n",
        "\n",
        "\n"
      ]
    },
    {
      "cell_type": "code",
      "source": [
        "columns = ['objectID','accessioned','accessionNum',\\\n",
        "           'locationID','title','displayDate','beginYear',\\\n",
        "           'endYear','visualBrowserTeimSpan','medim','dimensions',\\\n",
        "           'inscription','markings','attributionInverted','attribution',\\\n",
        "           'provenanceText','creditLine','classification','subClassification',\\\n",
        "           'visualBrowserClassification','parentID','isVirtual','departmentAbbr',\\\n",
        "           'portfolio','series','volume','watermarks','lastDetectedModification','wikidataid','customPrintURL']\n",
        "objects = pd.read_csv('/content/objects.csv', header=1, names = columns)\n",
        "#objects = objects.loc[1:,:]\n",
        "objects.head()\n",
        "objects.size"
      ],
      "metadata": {
        "colab": {
          "base_uri": "https://localhost:8080/"
        },
        "id": "T_x0U2O9KGHY",
        "outputId": "7ca9ca81-f696-42cc-8c07-41e4d8fa3fe2"
      },
      "execution_count": 6,
      "outputs": [
        {
          "output_type": "stream",
          "name": "stderr",
          "text": [
            "/usr/local/lib/python3.8/dist-packages/IPython/core/interactiveshell.py:3326: DtypeWarning: Columns (29) have mixed types.Specify dtype option on import or set low_memory=False.\n",
            "  exec(code_obj, self.user_global_ns, self.user_ns)\n"
          ]
        },
        {
          "output_type": "execute_result",
          "data": {
            "text/plain": [
              "4138470"
            ]
          },
          "metadata": {},
          "execution_count": 6
        }
      ]
    },
    {
      "cell_type": "code",
      "source": [
        "objects.loc[objects[\"objectID\"]==9539]"
      ],
      "metadata": {
        "colab": {
          "base_uri": "https://localhost:8080/",
          "height": 174
        },
        "id": "GDJxuqct-d8w",
        "outputId": "2d0557c6-7fcd-473f-b7c3-8a87525b7852"
      },
      "execution_count": null,
      "outputs": [
        {
          "output_type": "execute_result",
          "data": {
            "text/plain": [
              "       objectID  accessioned accessionNum  locationID       title displayDate  \\\n",
              "72183      9539            1  1943.3.6744         NaN  Scrubwoman         NaN   \n",
              "\n",
              "       beginYear  endYear visualBrowserTeimSpan       medim  ... parentID  \\\n",
              "72183     1908.0   1992.0          1901 to 1925  lithograph  ...      NaN   \n",
              "\n",
              "      isVirtual departmentAbbr portfolio series volume watermarks  \\\n",
              "72183         0           CG-W       NaN    NaN    NaN        NaN   \n",
              "\n",
              "      lastDetectedModification wikidataid customPrintURL  \n",
              "72183                  01:34.9  Q65019188            NaN  \n",
              "\n",
              "[1 rows x 30 columns]"
            ],
            "text/html": [
              "\n",
              "  <div id=\"df-c42f7fcd-fc14-42c8-b9b7-848475e4226b\">\n",
              "    <div class=\"colab-df-container\">\n",
              "      <div>\n",
              "<style scoped>\n",
              "    .dataframe tbody tr th:only-of-type {\n",
              "        vertical-align: middle;\n",
              "    }\n",
              "\n",
              "    .dataframe tbody tr th {\n",
              "        vertical-align: top;\n",
              "    }\n",
              "\n",
              "    .dataframe thead th {\n",
              "        text-align: right;\n",
              "    }\n",
              "</style>\n",
              "<table border=\"1\" class=\"dataframe\">\n",
              "  <thead>\n",
              "    <tr style=\"text-align: right;\">\n",
              "      <th></th>\n",
              "      <th>objectID</th>\n",
              "      <th>accessioned</th>\n",
              "      <th>accessionNum</th>\n",
              "      <th>locationID</th>\n",
              "      <th>title</th>\n",
              "      <th>displayDate</th>\n",
              "      <th>beginYear</th>\n",
              "      <th>endYear</th>\n",
              "      <th>visualBrowserTeimSpan</th>\n",
              "      <th>medim</th>\n",
              "      <th>...</th>\n",
              "      <th>parentID</th>\n",
              "      <th>isVirtual</th>\n",
              "      <th>departmentAbbr</th>\n",
              "      <th>portfolio</th>\n",
              "      <th>series</th>\n",
              "      <th>volume</th>\n",
              "      <th>watermarks</th>\n",
              "      <th>lastDetectedModification</th>\n",
              "      <th>wikidataid</th>\n",
              "      <th>customPrintURL</th>\n",
              "    </tr>\n",
              "  </thead>\n",
              "  <tbody>\n",
              "    <tr>\n",
              "      <th>72183</th>\n",
              "      <td>9539</td>\n",
              "      <td>1</td>\n",
              "      <td>1943.3.6744</td>\n",
              "      <td>NaN</td>\n",
              "      <td>Scrubwoman</td>\n",
              "      <td>NaN</td>\n",
              "      <td>1908.0</td>\n",
              "      <td>1992.0</td>\n",
              "      <td>1901 to 1925</td>\n",
              "      <td>lithograph</td>\n",
              "      <td>...</td>\n",
              "      <td>NaN</td>\n",
              "      <td>0</td>\n",
              "      <td>CG-W</td>\n",
              "      <td>NaN</td>\n",
              "      <td>NaN</td>\n",
              "      <td>NaN</td>\n",
              "      <td>NaN</td>\n",
              "      <td>01:34.9</td>\n",
              "      <td>Q65019188</td>\n",
              "      <td>NaN</td>\n",
              "    </tr>\n",
              "  </tbody>\n",
              "</table>\n",
              "<p>1 rows × 30 columns</p>\n",
              "</div>\n",
              "      <button class=\"colab-df-convert\" onclick=\"convertToInteractive('df-c42f7fcd-fc14-42c8-b9b7-848475e4226b')\"\n",
              "              title=\"Convert this dataframe to an interactive table.\"\n",
              "              style=\"display:none;\">\n",
              "        \n",
              "  <svg xmlns=\"http://www.w3.org/2000/svg\" height=\"24px\"viewBox=\"0 0 24 24\"\n",
              "       width=\"24px\">\n",
              "    <path d=\"M0 0h24v24H0V0z\" fill=\"none\"/>\n",
              "    <path d=\"M18.56 5.44l.94 2.06.94-2.06 2.06-.94-2.06-.94-.94-2.06-.94 2.06-2.06.94zm-11 1L8.5 8.5l.94-2.06 2.06-.94-2.06-.94L8.5 2.5l-.94 2.06-2.06.94zm10 10l.94 2.06.94-2.06 2.06-.94-2.06-.94-.94-2.06-.94 2.06-2.06.94z\"/><path d=\"M17.41 7.96l-1.37-1.37c-.4-.4-.92-.59-1.43-.59-.52 0-1.04.2-1.43.59L10.3 9.45l-7.72 7.72c-.78.78-.78 2.05 0 2.83L4 21.41c.39.39.9.59 1.41.59.51 0 1.02-.2 1.41-.59l7.78-7.78 2.81-2.81c.8-.78.8-2.07 0-2.86zM5.41 20L4 18.59l7.72-7.72 1.47 1.35L5.41 20z\"/>\n",
              "  </svg>\n",
              "      </button>\n",
              "      \n",
              "  <style>\n",
              "    .colab-df-container {\n",
              "      display:flex;\n",
              "      flex-wrap:wrap;\n",
              "      gap: 12px;\n",
              "    }\n",
              "\n",
              "    .colab-df-convert {\n",
              "      background-color: #E8F0FE;\n",
              "      border: none;\n",
              "      border-radius: 50%;\n",
              "      cursor: pointer;\n",
              "      display: none;\n",
              "      fill: #1967D2;\n",
              "      height: 32px;\n",
              "      padding: 0 0 0 0;\n",
              "      width: 32px;\n",
              "    }\n",
              "\n",
              "    .colab-df-convert:hover {\n",
              "      background-color: #E2EBFA;\n",
              "      box-shadow: 0px 1px 2px rgba(60, 64, 67, 0.3), 0px 1px 3px 1px rgba(60, 64, 67, 0.15);\n",
              "      fill: #174EA6;\n",
              "    }\n",
              "\n",
              "    [theme=dark] .colab-df-convert {\n",
              "      background-color: #3B4455;\n",
              "      fill: #D2E3FC;\n",
              "    }\n",
              "\n",
              "    [theme=dark] .colab-df-convert:hover {\n",
              "      background-color: #434B5C;\n",
              "      box-shadow: 0px 1px 3px 1px rgba(0, 0, 0, 0.15);\n",
              "      filter: drop-shadow(0px 1px 2px rgba(0, 0, 0, 0.3));\n",
              "      fill: #FFFFFF;\n",
              "    }\n",
              "  </style>\n",
              "\n",
              "      <script>\n",
              "        const buttonEl =\n",
              "          document.querySelector('#df-c42f7fcd-fc14-42c8-b9b7-848475e4226b button.colab-df-convert');\n",
              "        buttonEl.style.display =\n",
              "          google.colab.kernel.accessAllowed ? 'block' : 'none';\n",
              "\n",
              "        async function convertToInteractive(key) {\n",
              "          const element = document.querySelector('#df-c42f7fcd-fc14-42c8-b9b7-848475e4226b');\n",
              "          const dataTable =\n",
              "            await google.colab.kernel.invokeFunction('convertToInteractive',\n",
              "                                                     [key], {});\n",
              "          if (!dataTable) return;\n",
              "\n",
              "          const docLinkHtml = 'Like what you see? Visit the ' +\n",
              "            '<a target=\"_blank\" href=https://colab.research.google.com/notebooks/data_table.ipynb>data table notebook</a>'\n",
              "            + ' to learn more about interactive tables.';\n",
              "          element.innerHTML = '';\n",
              "          dataTable['output_type'] = 'display_data';\n",
              "          await google.colab.output.renderOutput(dataTable, element);\n",
              "          const docLink = document.createElement('div');\n",
              "          docLink.innerHTML = docLinkHtml;\n",
              "          element.appendChild(docLink);\n",
              "        }\n",
              "      </script>\n",
              "    </div>\n",
              "  </div>\n",
              "  "
            ]
          },
          "metadata": {},
          "execution_count": 10
        }
      ]
    },
    {
      "cell_type": "markdown",
      "source": [
        "Check the length of objectID"
      ],
      "metadata": {
        "id": "DDhqE-b22bGE"
      }
    },
    {
      "cell_type": "code",
      "source": [
        "objectID = objects['objectID']\n",
        "objectID.astype(str).apply(lambda x: len(x)).max()\n",
        "#len_tb = objects.astype(str).apply(lambda col: col.str.len()).max()\n",
        "#len_tb"
      ],
      "metadata": {
        "colab": {
          "base_uri": "https://localhost:8080/"
        },
        "id": "-4vfI9W12QZi",
        "outputId": "aa51bcfc-9cff-4bfe-b4fb-207ced612057"
      },
      "execution_count": null,
      "outputs": [
        {
          "output_type": "execute_result",
          "data": {
            "text/plain": [
              "8"
            ]
          },
          "metadata": {},
          "execution_count": 15
        }
      ]
    },
    {
      "cell_type": "markdown",
      "source": [
        "Check the length of accessionNum"
      ],
      "metadata": {
        "id": "9Dacm9c95Pa3"
      }
    },
    {
      "cell_type": "code",
      "source": [
        "accessionNum = objects['accessionNum']\n",
        "accessionNum.apply(lambda x: len(x)).max()"
      ],
      "metadata": {
        "colab": {
          "base_uri": "https://localhost:8080/"
        },
        "id": "mpRp3mgk5YIU",
        "outputId": "82c0d839-e18b-4e81-b0c1-48160422fd5b"
      },
      "execution_count": null,
      "outputs": [
        {
          "output_type": "execute_result",
          "data": {
            "text/plain": [
              "20"
            ]
          },
          "metadata": {},
          "execution_count": 17
        }
      ]
    },
    {
      "cell_type": "markdown",
      "source": [
        "Check the lengh of title"
      ],
      "metadata": {
        "id": "uiLhV_Qt57pW"
      }
    },
    {
      "cell_type": "code",
      "source": [
        "title = objects ['title']\n",
        "title.head()\n",
        "title.astype(str).apply(lambda x:len(x)).max()"
      ],
      "metadata": {
        "colab": {
          "base_uri": "https://localhost:8080/"
        },
        "id": "sEWlVg_459Im",
        "outputId": "6b7b7de8-8f6d-42fd-ff52-403868149135"
      },
      "execution_count": null,
      "outputs": [
        {
          "output_type": "execute_result",
          "data": {
            "text/plain": [
              "848"
            ]
          },
          "metadata": {},
          "execution_count": 38
        }
      ]
    },
    {
      "cell_type": "markdown",
      "source": [
        "Check all column max length"
      ],
      "metadata": {
        "id": "2XJGPt8l87q6"
      }
    },
    {
      "cell_type": "code",
      "source": [
        "len_tb = objects.astype(str).apply(lambda x:x.str.len()).max()\n",
        "len_tb"
      ],
      "metadata": {
        "colab": {
          "base_uri": "https://localhost:8080/"
        },
        "id": "3AtWNv8E89or",
        "outputId": "78a142bd-5954-4803-b89f-58a45114b73a"
      },
      "execution_count": null,
      "outputs": [
        {
          "output_type": "execute_result",
          "data": {
            "text/plain": [
              "objectID                           6\n",
              "accessioned                        1\n",
              "accessionNum                      20\n",
              "locationID                         7\n",
              "title                            848\n",
              "displayDate                      135\n",
              "beginYear                          6\n",
              "endYear                            6\n",
              "visualBrowserTeimSpan             15\n",
              "medim                            731\n",
              "dimensions                       733\n",
              "inscription                     4849\n",
              "markings                        1540\n",
              "attributionInverted              394\n",
              "attribution                      779\n",
              "provenanceText                 11740\n",
              "creditLine                       732\n",
              "classification                    24\n",
              "subClassification                 21\n",
              "visualBrowserClassification       18\n",
              "parentID                           8\n",
              "isVirtual                          1\n",
              "departmentAbbr                     5\n",
              "portfolio                        345\n",
              "series                           542\n",
              "volume                           332\n",
              "watermarks                       340\n",
              "lastDetectedModification          26\n",
              "customPrintURL                   153\n",
              "dtype: int64"
            ]
          },
          "metadata": {},
          "execution_count": 46
        }
      ]
    },
    {
      "cell_type": "code",
      "source": [
        "longest = objects.loc[objects['title'].str.len()>847,:]\n",
        "print(longest.values)"
      ],
      "metadata": {
        "colab": {
          "base_uri": "https://localhost:8080/"
        },
        "id": "LniIMAY3Bb8_",
        "outputId": "160ca235-6f0a-4b9b-b304-dfae08f9711c"
      },
      "execution_count": null,
      "outputs": [
        {
          "output_type": "stream",
          "name": "stdout",
          "text": [
            "[['154198' '1' '2010.137.28' nan\n",
            "  'William S. Burroughs slightly zonked, his dooryard-garden wall Villa Muneria, looking at me suspiciously, \"Who are you an Agent for?\" He \"traced back along word-lines,\" cut-up technique of anti-brainwash language analysis, inquiring sources of my mental conditioning, perhaps Liberal Professor Trilling, perhaps \"a trust of giant insects from another Galaxy\" conspiring to make Nova Conditions on our Planet, exterminate HomoSap the Human animal so another life-form, virus invasion, move in on the Turf, such like poetries on his mind. Timothy Leary visited from Harvard, we took small amount of psilocybin, Bill shut himself inside his garden gate with a wave of his hand, allergic, paranoia season. Peter Orlovsky departed alone, ship to Athens, Bill employed for Scandinavia L.S.O. Conference leaving Gregory Corso and myself waving him goodbye'\n",
            "  '1961, printed 1995' '1961' '1961' '1951 to 1975'\n",
            "  'gelatin silver print'\n",
            "  'image: 28.26 × 41.59 cm (11 1/8 × 16 3/8 in.)\\r\\nsheet: 40.48 × 50.48 cm (15 15/16 × 19 7/8 in.)'\n",
            "  'signed by artist, across bottom in black ink: William S. Burroughs slightly zonked, his dooryard-garden wall Villa Muneria, looking at me suspic- / iously, \"Who are you an agent for? He \"traced back along word-llines,\" cut-up technique of anti-brainwash lang- / uage analysis, inquiring sources of my mental conditioning, perhaps Liberal Professor Trilling, perhaps \"a trust / of giant insects from another Galaxy\" conspiring to make Nova Conditions on our Planet, exterminate HomoSap [sic] / the Human animal so another life-form, virus invasion, move in on the Turf, suchlike [sic] poetries on his mind. / Timothy Leary visited from Harvard, we took small amount of Psylocibin [sic], Bill shut himself inside his / garden gate with a wave of his hand, allergic, paranoia season. Peter Orlovsky departed alone, ship / to Athens, Bill employed for Scandinavia L.S.O. Conference leaving Gregory Corso and myself waving / him goodbye at the airport Limo on Boulevard Pasteur. We all rejoined company in Paris later that year. Here Tangier, May 1961.     Allen Ginsberg; rubber stamp in black ink, center: Photograph By / Allen Ginsberg / COPYRIGHT 1994 NYC / ALL RIGHTS RESERVED / Fax 212-675-1686; by unknown hand, bottom right in graphite: AG signed 10/25/95; lower right in graphite: 1/3 SK / Tanger 1961 / 47/810; bottom center in graphite: GD-AG-7; bottom right in graphite: GDC-905'\n",
            "  nan 'Ginsberg, Allen' 'Allen Ginsberg'\n",
            "  'Allen Ginsberg Estate; Gary S. Davis, Greenwich, CT; gift to NGA, 2010.'\n",
            "  'Gift of Gary S. Davis' 'Photograph' nan 'photograph' nan '0' 'CPH' nan\n",
            "  nan nan nan '2021-08-10 22:01:16.547-04' nan]]\n"
          ]
        }
      ]
    },
    {
      "cell_type": "code",
      "source": [
        "longest_str = objects.loc[objects['provenanceText'].str.len()>11739,\"provenanceText\"]\n",
        "print(longest_str)"
      ],
      "metadata": {
        "colab": {
          "base_uri": "https://localhost:8080/"
        },
        "id": "Bgfd144IDtje",
        "outputId": "3c4b25d1-e7e0-43f0-e136-3a88adcf4de4"
      },
      "execution_count": null,
      "outputs": [
        {
          "output_type": "stream",
          "name": "stdout",
          "text": [
            "137762    Probably commissioned by a member of the Medic...\n",
            "Name: provenanceText, dtype: object\n"
          ]
        }
      ]
    },
    {
      "cell_type": "markdown",
      "source": [
        "For Constituents\n"
      ],
      "metadata": {
        "id": "_IqCb7RlGUbD"
      }
    },
    {
      "cell_type": "code",
      "source": [
        "columns_constituents = ['constituentID','ULANID','preferredDisplayName',\\\n",
        "           'forwardDisplayName','lastName','displayDate','artistOfNGAObject',\\\n",
        "           'beginYear','endYear','visualBrowserTimeSpan','nationality',\\\n",
        "           'visualBrowserNationality','constituentType']\n",
        "constituents = pd.read_csv('/content/constituents.csv', header=None, names = columns_constituents)\n",
        "constituents = constituents.loc[1:,:]\n",
        "constituents.size"
      ],
      "metadata": {
        "colab": {
          "base_uri": "https://localhost:8080/"
        },
        "id": "aoeffaXDGYbd",
        "outputId": "aebe2e0e-a502-43b8-ad86-05669b3e8789"
      },
      "execution_count": 4,
      "outputs": [
        {
          "output_type": "execute_result",
          "data": {
            "text/plain": [
              "339326"
            ]
          },
          "metadata": {},
          "execution_count": 4
        }
      ]
    },
    {
      "cell_type": "markdown",
      "source": [
        "Constituents Length"
      ],
      "metadata": {
        "id": "lPyvkcjMIayZ"
      }
    },
    {
      "cell_type": "code",
      "source": [
        "len_tb_constituents = constituents.astype(str).apply(lambda x:x.str.len()).max()\n",
        "len_tb_constituents"
      ],
      "metadata": {
        "colab": {
          "base_uri": "https://localhost:8080/"
        },
        "id": "RU7U5HVwIcRp",
        "outputId": "2dde8f73-cf72-4c46-974c-85f264071206"
      },
      "execution_count": null,
      "outputs": [
        {
          "output_type": "execute_result",
          "data": {
            "text/plain": [
              "constituentID                 5\n",
              "ULANID                        9\n",
              "preferredDisplayName        171\n",
              "forwardDisplayName          170\n",
              "lastName                    100\n",
              "displayDate                  90\n",
              "artistOfNGAObject             1\n",
              "beginYear                     4\n",
              "endYear                       4\n",
              "visualBrowserTimeSpan        15\n",
              "nationality                  23\n",
              "visualBrowserNationality     13\n",
              "constituentType              13\n",
              "dtype: int64"
            ]
          },
          "metadata": {},
          "execution_count": 62
        }
      ]
    },
    {
      "cell_type": "code",
      "source": [
        "longest_constituent_str = constituents.loc[constituents['forwardDisplayName'].str.len()>=170,:]\n",
        "print(longest_constituent_str)"
      ],
      "metadata": {
        "colab": {
          "base_uri": "https://localhost:8080/"
        },
        "id": "x2sU8IVKKBlQ",
        "outputId": "fd7dd5ea-ae24-4a71-d456-b3c7ed2fd808"
      },
      "execution_count": null,
      "outputs": [
        {
          "output_type": "stream",
          "name": "stdout",
          "text": [
            "     constituentID ULANID                               preferredDisplayName  \\\n",
            "1069          1147    NaN  Pinkus Trustees of the Community Trust created...   \n",
            "\n",
            "                                     forwardDisplayName  \\\n",
            "1069  Gerhard E. Pinkus and Marianne Pinkus Trustees...   \n",
            "\n",
            "                                               lastName   displayDate  \\\n",
            "1069  Pinkus Trustees of the Community Trust created...  he died 2004   \n",
            "\n",
            "     artistOfNGAObject beginYear endYear visualBrowserTimeSpan nationality  \\\n",
            "1069                 0      1904    2004          1901 to 1925         NaN   \n",
            "\n",
            "     visualBrowserNationality constituentType  \n",
            "1069                    Other          couple  \n"
          ]
        }
      ]
    },
    {
      "cell_type": "markdown",
      "source": [
        "Check object_constituent"
      ],
      "metadata": {
        "id": "FIgwx68WQpph"
      }
    },
    {
      "cell_type": "code",
      "source": [
        "columns_objcons = ['objectID','constituentID','displayOrder','roleType','role','prefix','suffix',\\\n",
        "                   'displayDate','beginyear','endyear','country','zipcode']\n",
        "obj_cons = pd.read_csv('/content/objects_constituents.csv', header=1, names = columns_objcons)\n",
        "obj_cons.size"
      ],
      "metadata": {
        "id": "-Q5n8vjkQsTw",
        "colab": {
          "base_uri": "https://localhost:8080/",
          "height": 285
        },
        "outputId": "64df39f6-09e2-493f-f175-ed90a8126f41"
      },
      "execution_count": 9,
      "outputs": [
        {
          "output_type": "error",
          "ename": "ParserError",
          "evalue": "ignored",
          "traceback": [
            "\u001b[0;31m---------------------------------------------------------------------------\u001b[0m",
            "\u001b[0;31mParserError\u001b[0m                               Traceback (most recent call last)",
            "\u001b[0;32m<ipython-input-9-139a4e72ad7f>\u001b[0m in \u001b[0;36m<module>\u001b[0;34m\u001b[0m\n\u001b[1;32m      1\u001b[0m columns_objcons = ['objectID','constituentID','displayOrder','roleType','role','prefix','suffix',\\\n\u001b[1;32m      2\u001b[0m                    'displayDate','beginyear','endyear','country','zipcode']\n\u001b[0;32m----> 3\u001b[0;31m \u001b[0mobj_cons\u001b[0m \u001b[0;34m=\u001b[0m \u001b[0mpd\u001b[0m\u001b[0;34m.\u001b[0m\u001b[0mread_csv\u001b[0m\u001b[0;34m(\u001b[0m\u001b[0;34m'/content/objects_constituents.csv'\u001b[0m\u001b[0;34m,\u001b[0m \u001b[0mheader\u001b[0m\u001b[0;34m=\u001b[0m\u001b[0;36m1\u001b[0m\u001b[0;34m,\u001b[0m \u001b[0mnames\u001b[0m \u001b[0;34m=\u001b[0m \u001b[0mcolumns_objcons\u001b[0m\u001b[0;34m)\u001b[0m\u001b[0;34m\u001b[0m\u001b[0;34m\u001b[0m\u001b[0m\n\u001b[0m\u001b[1;32m      4\u001b[0m \u001b[0mobj_cons\u001b[0m\u001b[0;34m.\u001b[0m\u001b[0msize\u001b[0m\u001b[0;34m\u001b[0m\u001b[0;34m\u001b[0m\u001b[0m\n",
            "\u001b[0;32m/usr/local/lib/python3.8/dist-packages/pandas/util/_decorators.py\u001b[0m in \u001b[0;36mwrapper\u001b[0;34m(*args, **kwargs)\u001b[0m\n\u001b[1;32m    309\u001b[0m                     \u001b[0mstacklevel\u001b[0m\u001b[0;34m=\u001b[0m\u001b[0mstacklevel\u001b[0m\u001b[0;34m,\u001b[0m\u001b[0;34m\u001b[0m\u001b[0;34m\u001b[0m\u001b[0m\n\u001b[1;32m    310\u001b[0m                 )\n\u001b[0;32m--> 311\u001b[0;31m             \u001b[0;32mreturn\u001b[0m \u001b[0mfunc\u001b[0m\u001b[0;34m(\u001b[0m\u001b[0;34m*\u001b[0m\u001b[0margs\u001b[0m\u001b[0;34m,\u001b[0m \u001b[0;34m**\u001b[0m\u001b[0mkwargs\u001b[0m\u001b[0;34m)\u001b[0m\u001b[0;34m\u001b[0m\u001b[0;34m\u001b[0m\u001b[0m\n\u001b[0m\u001b[1;32m    312\u001b[0m \u001b[0;34m\u001b[0m\u001b[0m\n\u001b[1;32m    313\u001b[0m         \u001b[0;32mreturn\u001b[0m \u001b[0mwrapper\u001b[0m\u001b[0;34m\u001b[0m\u001b[0;34m\u001b[0m\u001b[0m\n",
            "\u001b[0;32m/usr/local/lib/python3.8/dist-packages/pandas/io/parsers/readers.py\u001b[0m in \u001b[0;36mread_csv\u001b[0;34m(filepath_or_buffer, sep, delimiter, header, names, index_col, usecols, squeeze, prefix, mangle_dupe_cols, dtype, engine, converters, true_values, false_values, skipinitialspace, skiprows, skipfooter, nrows, na_values, keep_default_na, na_filter, verbose, skip_blank_lines, parse_dates, infer_datetime_format, keep_date_col, date_parser, dayfirst, cache_dates, iterator, chunksize, compression, thousands, decimal, lineterminator, quotechar, quoting, doublequote, escapechar, comment, encoding, encoding_errors, dialect, error_bad_lines, warn_bad_lines, on_bad_lines, delim_whitespace, low_memory, memory_map, float_precision, storage_options)\u001b[0m\n\u001b[1;32m    584\u001b[0m     \u001b[0mkwds\u001b[0m\u001b[0;34m.\u001b[0m\u001b[0mupdate\u001b[0m\u001b[0;34m(\u001b[0m\u001b[0mkwds_defaults\u001b[0m\u001b[0;34m)\u001b[0m\u001b[0;34m\u001b[0m\u001b[0;34m\u001b[0m\u001b[0m\n\u001b[1;32m    585\u001b[0m \u001b[0;34m\u001b[0m\u001b[0m\n\u001b[0;32m--> 586\u001b[0;31m     \u001b[0;32mreturn\u001b[0m \u001b[0m_read\u001b[0m\u001b[0;34m(\u001b[0m\u001b[0mfilepath_or_buffer\u001b[0m\u001b[0;34m,\u001b[0m \u001b[0mkwds\u001b[0m\u001b[0;34m)\u001b[0m\u001b[0;34m\u001b[0m\u001b[0;34m\u001b[0m\u001b[0m\n\u001b[0m\u001b[1;32m    587\u001b[0m \u001b[0;34m\u001b[0m\u001b[0m\n\u001b[1;32m    588\u001b[0m \u001b[0;34m\u001b[0m\u001b[0m\n",
            "\u001b[0;32m/usr/local/lib/python3.8/dist-packages/pandas/io/parsers/readers.py\u001b[0m in \u001b[0;36m_read\u001b[0;34m(filepath_or_buffer, kwds)\u001b[0m\n\u001b[1;32m    486\u001b[0m \u001b[0;34m\u001b[0m\u001b[0m\n\u001b[1;32m    487\u001b[0m     \u001b[0;32mwith\u001b[0m \u001b[0mparser\u001b[0m\u001b[0;34m:\u001b[0m\u001b[0;34m\u001b[0m\u001b[0;34m\u001b[0m\u001b[0m\n\u001b[0;32m--> 488\u001b[0;31m         \u001b[0;32mreturn\u001b[0m \u001b[0mparser\u001b[0m\u001b[0;34m.\u001b[0m\u001b[0mread\u001b[0m\u001b[0;34m(\u001b[0m\u001b[0mnrows\u001b[0m\u001b[0;34m)\u001b[0m\u001b[0;34m\u001b[0m\u001b[0;34m\u001b[0m\u001b[0m\n\u001b[0m\u001b[1;32m    489\u001b[0m \u001b[0;34m\u001b[0m\u001b[0m\n\u001b[1;32m    490\u001b[0m \u001b[0;34m\u001b[0m\u001b[0m\n",
            "\u001b[0;32m/usr/local/lib/python3.8/dist-packages/pandas/io/parsers/readers.py\u001b[0m in \u001b[0;36mread\u001b[0;34m(self, nrows)\u001b[0m\n\u001b[1;32m   1045\u001b[0m     \u001b[0;32mdef\u001b[0m \u001b[0mread\u001b[0m\u001b[0;34m(\u001b[0m\u001b[0mself\u001b[0m\u001b[0;34m,\u001b[0m \u001b[0mnrows\u001b[0m\u001b[0;34m=\u001b[0m\u001b[0;32mNone\u001b[0m\u001b[0;34m)\u001b[0m\u001b[0;34m:\u001b[0m\u001b[0;34m\u001b[0m\u001b[0;34m\u001b[0m\u001b[0m\n\u001b[1;32m   1046\u001b[0m         \u001b[0mnrows\u001b[0m \u001b[0;34m=\u001b[0m \u001b[0mvalidate_integer\u001b[0m\u001b[0;34m(\u001b[0m\u001b[0;34m\"nrows\"\u001b[0m\u001b[0;34m,\u001b[0m \u001b[0mnrows\u001b[0m\u001b[0;34m)\u001b[0m\u001b[0;34m\u001b[0m\u001b[0;34m\u001b[0m\u001b[0m\n\u001b[0;32m-> 1047\u001b[0;31m         \u001b[0mindex\u001b[0m\u001b[0;34m,\u001b[0m \u001b[0mcolumns\u001b[0m\u001b[0;34m,\u001b[0m \u001b[0mcol_dict\u001b[0m \u001b[0;34m=\u001b[0m \u001b[0mself\u001b[0m\u001b[0;34m.\u001b[0m\u001b[0m_engine\u001b[0m\u001b[0;34m.\u001b[0m\u001b[0mread\u001b[0m\u001b[0;34m(\u001b[0m\u001b[0mnrows\u001b[0m\u001b[0;34m)\u001b[0m\u001b[0;34m\u001b[0m\u001b[0;34m\u001b[0m\u001b[0m\n\u001b[0m\u001b[1;32m   1048\u001b[0m \u001b[0;34m\u001b[0m\u001b[0m\n\u001b[1;32m   1049\u001b[0m         \u001b[0;32mif\u001b[0m \u001b[0mindex\u001b[0m \u001b[0;32mis\u001b[0m \u001b[0;32mNone\u001b[0m\u001b[0;34m:\u001b[0m\u001b[0;34m\u001b[0m\u001b[0;34m\u001b[0m\u001b[0m\n",
            "\u001b[0;32m/usr/local/lib/python3.8/dist-packages/pandas/io/parsers/c_parser_wrapper.py\u001b[0m in \u001b[0;36mread\u001b[0;34m(self, nrows)\u001b[0m\n\u001b[1;32m    222\u001b[0m         \u001b[0;32mtry\u001b[0m\u001b[0;34m:\u001b[0m\u001b[0;34m\u001b[0m\u001b[0;34m\u001b[0m\u001b[0m\n\u001b[1;32m    223\u001b[0m             \u001b[0;32mif\u001b[0m \u001b[0mself\u001b[0m\u001b[0;34m.\u001b[0m\u001b[0mlow_memory\u001b[0m\u001b[0;34m:\u001b[0m\u001b[0;34m\u001b[0m\u001b[0;34m\u001b[0m\u001b[0m\n\u001b[0;32m--> 224\u001b[0;31m                 \u001b[0mchunks\u001b[0m \u001b[0;34m=\u001b[0m \u001b[0mself\u001b[0m\u001b[0;34m.\u001b[0m\u001b[0m_reader\u001b[0m\u001b[0;34m.\u001b[0m\u001b[0mread_low_memory\u001b[0m\u001b[0;34m(\u001b[0m\u001b[0mnrows\u001b[0m\u001b[0;34m)\u001b[0m\u001b[0;34m\u001b[0m\u001b[0;34m\u001b[0m\u001b[0m\n\u001b[0m\u001b[1;32m    225\u001b[0m                 \u001b[0;31m# destructive to chunks\u001b[0m\u001b[0;34m\u001b[0m\u001b[0;34m\u001b[0m\u001b[0;34m\u001b[0m\u001b[0m\n\u001b[1;32m    226\u001b[0m                 \u001b[0mdata\u001b[0m \u001b[0;34m=\u001b[0m \u001b[0m_concatenate_chunks\u001b[0m\u001b[0;34m(\u001b[0m\u001b[0mchunks\u001b[0m\u001b[0;34m)\u001b[0m\u001b[0;34m\u001b[0m\u001b[0;34m\u001b[0m\u001b[0m\n",
            "\u001b[0;32m/usr/local/lib/python3.8/dist-packages/pandas/_libs/parsers.pyx\u001b[0m in \u001b[0;36mpandas._libs.parsers.TextReader.read_low_memory\u001b[0;34m()\u001b[0m\n",
            "\u001b[0;32m/usr/local/lib/python3.8/dist-packages/pandas/_libs/parsers.pyx\u001b[0m in \u001b[0;36mpandas._libs.parsers.TextReader._read_rows\u001b[0;34m()\u001b[0m\n",
            "\u001b[0;32m/usr/local/lib/python3.8/dist-packages/pandas/_libs/parsers.pyx\u001b[0m in \u001b[0;36mpandas._libs.parsers.TextReader._tokenize_rows\u001b[0;34m()\u001b[0m\n",
            "\u001b[0;32m/usr/local/lib/python3.8/dist-packages/pandas/_libs/parsers.pyx\u001b[0m in \u001b[0;36mpandas._libs.parsers.raise_parser_error\u001b[0;34m()\u001b[0m\n",
            "\u001b[0;31mParserError\u001b[0m: Error tokenizing data. C error: Expected 12 fields in line 42159, saw 14\n"
          ]
        }
      ]
    },
    {
      "cell_type": "code",
      "source": [
        "obj_cons.query(\"objectID==8\")"
      ],
      "metadata": {
        "colab": {
          "base_uri": "https://localhost:8080/",
          "height": 363
        },
        "id": "pw55Tn9quIsE",
        "outputId": "d6100c64-b40b-4981-f6fa-993121f73eaf"
      },
      "execution_count": null,
      "outputs": [
        {
          "output_type": "execute_result",
          "data": {
            "text/plain": [
              "   objectID  constituentID  displayOrder roleType            role prefix  \\\n",
              "0         8            427             1    donor           donor    NaN   \n",
              "1         8            427             2    donor          source    NaN   \n",
              "2         8            427             6    owner  previous owner    NaN   \n",
              "3         8           1102             5    owner  previous owner    NaN   \n",
              "4         8           5524             1   artist         painter    NaN   \n",
              "5         8           5525             2   artist         painter    and   \n",
              "6         8           8511             4    owner  previous owner    NaN   \n",
              "7         8          18899             3    owner  previous owner    NaN   \n",
              "8         8          23024             2    owner  previous owner    NaN   \n",
              "9         8          30017             1    owner  previous owner    NaN   \n",
              "\n",
              "              suffix  displayDate  beginyear  endyear country zipcode  \n",
              "0                NaN          NaN        NaN      NaN     NaN     NaN  \n",
              "1                NaN          NaN        NaN      NaN     NaN     NaN  \n",
              "2                NaN  1936 - 1937     1936.0   1937.0     NaN     NaN  \n",
              "3     , New York, NY  1936 - 1936     1936.0   1936.0     NaN     NaN  \n",
              "4                NaN          NaN        NaN      NaN     NaN     NaN  \n",
              "5                NaN          NaN        NaN      NaN     NaN     NaN  \n",
              "6     , New York, NY  1930 - 1930     1930.0   1930.0     NaN     NaN  \n",
              "7                NaN  1916 - 1916     1916.0   1916.0     NaN     NaN  \n",
              "8  , London, England  1916 - 1916     1916.0   1916.0     NaN     NaN  \n",
              "9                NaN       - 1916        NaN   1916.0     NaN     NaN  "
            ],
            "text/html": [
              "\n",
              "  <div id=\"df-176decdb-ba2e-4eb9-9437-81c6a8e8b323\">\n",
              "    <div class=\"colab-df-container\">\n",
              "      <div>\n",
              "<style scoped>\n",
              "    .dataframe tbody tr th:only-of-type {\n",
              "        vertical-align: middle;\n",
              "    }\n",
              "\n",
              "    .dataframe tbody tr th {\n",
              "        vertical-align: top;\n",
              "    }\n",
              "\n",
              "    .dataframe thead th {\n",
              "        text-align: right;\n",
              "    }\n",
              "</style>\n",
              "<table border=\"1\" class=\"dataframe\">\n",
              "  <thead>\n",
              "    <tr style=\"text-align: right;\">\n",
              "      <th></th>\n",
              "      <th>objectID</th>\n",
              "      <th>constituentID</th>\n",
              "      <th>displayOrder</th>\n",
              "      <th>roleType</th>\n",
              "      <th>role</th>\n",
              "      <th>prefix</th>\n",
              "      <th>suffix</th>\n",
              "      <th>displayDate</th>\n",
              "      <th>beginyear</th>\n",
              "      <th>endyear</th>\n",
              "      <th>country</th>\n",
              "      <th>zipcode</th>\n",
              "    </tr>\n",
              "  </thead>\n",
              "  <tbody>\n",
              "    <tr>\n",
              "      <th>0</th>\n",
              "      <td>8</td>\n",
              "      <td>427</td>\n",
              "      <td>1</td>\n",
              "      <td>donor</td>\n",
              "      <td>donor</td>\n",
              "      <td>NaN</td>\n",
              "      <td>NaN</td>\n",
              "      <td>NaN</td>\n",
              "      <td>NaN</td>\n",
              "      <td>NaN</td>\n",
              "      <td>NaN</td>\n",
              "      <td>NaN</td>\n",
              "    </tr>\n",
              "    <tr>\n",
              "      <th>1</th>\n",
              "      <td>8</td>\n",
              "      <td>427</td>\n",
              "      <td>2</td>\n",
              "      <td>donor</td>\n",
              "      <td>source</td>\n",
              "      <td>NaN</td>\n",
              "      <td>NaN</td>\n",
              "      <td>NaN</td>\n",
              "      <td>NaN</td>\n",
              "      <td>NaN</td>\n",
              "      <td>NaN</td>\n",
              "      <td>NaN</td>\n",
              "    </tr>\n",
              "    <tr>\n",
              "      <th>2</th>\n",
              "      <td>8</td>\n",
              "      <td>427</td>\n",
              "      <td>6</td>\n",
              "      <td>owner</td>\n",
              "      <td>previous owner</td>\n",
              "      <td>NaN</td>\n",
              "      <td>NaN</td>\n",
              "      <td>1936 - 1937</td>\n",
              "      <td>1936.0</td>\n",
              "      <td>1937.0</td>\n",
              "      <td>NaN</td>\n",
              "      <td>NaN</td>\n",
              "    </tr>\n",
              "    <tr>\n",
              "      <th>3</th>\n",
              "      <td>8</td>\n",
              "      <td>1102</td>\n",
              "      <td>5</td>\n",
              "      <td>owner</td>\n",
              "      <td>previous owner</td>\n",
              "      <td>NaN</td>\n",
              "      <td>, New York, NY</td>\n",
              "      <td>1936 - 1936</td>\n",
              "      <td>1936.0</td>\n",
              "      <td>1936.0</td>\n",
              "      <td>NaN</td>\n",
              "      <td>NaN</td>\n",
              "    </tr>\n",
              "    <tr>\n",
              "      <th>4</th>\n",
              "      <td>8</td>\n",
              "      <td>5524</td>\n",
              "      <td>1</td>\n",
              "      <td>artist</td>\n",
              "      <td>painter</td>\n",
              "      <td>NaN</td>\n",
              "      <td>NaN</td>\n",
              "      <td>NaN</td>\n",
              "      <td>NaN</td>\n",
              "      <td>NaN</td>\n",
              "      <td>NaN</td>\n",
              "      <td>NaN</td>\n",
              "    </tr>\n",
              "    <tr>\n",
              "      <th>5</th>\n",
              "      <td>8</td>\n",
              "      <td>5525</td>\n",
              "      <td>2</td>\n",
              "      <td>artist</td>\n",
              "      <td>painter</td>\n",
              "      <td>and</td>\n",
              "      <td>NaN</td>\n",
              "      <td>NaN</td>\n",
              "      <td>NaN</td>\n",
              "      <td>NaN</td>\n",
              "      <td>NaN</td>\n",
              "      <td>NaN</td>\n",
              "    </tr>\n",
              "    <tr>\n",
              "      <th>6</th>\n",
              "      <td>8</td>\n",
              "      <td>8511</td>\n",
              "      <td>4</td>\n",
              "      <td>owner</td>\n",
              "      <td>previous owner</td>\n",
              "      <td>NaN</td>\n",
              "      <td>, New York, NY</td>\n",
              "      <td>1930 - 1930</td>\n",
              "      <td>1930.0</td>\n",
              "      <td>1930.0</td>\n",
              "      <td>NaN</td>\n",
              "      <td>NaN</td>\n",
              "    </tr>\n",
              "    <tr>\n",
              "      <th>7</th>\n",
              "      <td>8</td>\n",
              "      <td>18899</td>\n",
              "      <td>3</td>\n",
              "      <td>owner</td>\n",
              "      <td>previous owner</td>\n",
              "      <td>NaN</td>\n",
              "      <td>NaN</td>\n",
              "      <td>1916 - 1916</td>\n",
              "      <td>1916.0</td>\n",
              "      <td>1916.0</td>\n",
              "      <td>NaN</td>\n",
              "      <td>NaN</td>\n",
              "    </tr>\n",
              "    <tr>\n",
              "      <th>8</th>\n",
              "      <td>8</td>\n",
              "      <td>23024</td>\n",
              "      <td>2</td>\n",
              "      <td>owner</td>\n",
              "      <td>previous owner</td>\n",
              "      <td>NaN</td>\n",
              "      <td>, London, England</td>\n",
              "      <td>1916 - 1916</td>\n",
              "      <td>1916.0</td>\n",
              "      <td>1916.0</td>\n",
              "      <td>NaN</td>\n",
              "      <td>NaN</td>\n",
              "    </tr>\n",
              "    <tr>\n",
              "      <th>9</th>\n",
              "      <td>8</td>\n",
              "      <td>30017</td>\n",
              "      <td>1</td>\n",
              "      <td>owner</td>\n",
              "      <td>previous owner</td>\n",
              "      <td>NaN</td>\n",
              "      <td>NaN</td>\n",
              "      <td>- 1916</td>\n",
              "      <td>NaN</td>\n",
              "      <td>1916.0</td>\n",
              "      <td>NaN</td>\n",
              "      <td>NaN</td>\n",
              "    </tr>\n",
              "  </tbody>\n",
              "</table>\n",
              "</div>\n",
              "      <button class=\"colab-df-convert\" onclick=\"convertToInteractive('df-176decdb-ba2e-4eb9-9437-81c6a8e8b323')\"\n",
              "              title=\"Convert this dataframe to an interactive table.\"\n",
              "              style=\"display:none;\">\n",
              "        \n",
              "  <svg xmlns=\"http://www.w3.org/2000/svg\" height=\"24px\"viewBox=\"0 0 24 24\"\n",
              "       width=\"24px\">\n",
              "    <path d=\"M0 0h24v24H0V0z\" fill=\"none\"/>\n",
              "    <path d=\"M18.56 5.44l.94 2.06.94-2.06 2.06-.94-2.06-.94-.94-2.06-.94 2.06-2.06.94zm-11 1L8.5 8.5l.94-2.06 2.06-.94-2.06-.94L8.5 2.5l-.94 2.06-2.06.94zm10 10l.94 2.06.94-2.06 2.06-.94-2.06-.94-.94-2.06-.94 2.06-2.06.94z\"/><path d=\"M17.41 7.96l-1.37-1.37c-.4-.4-.92-.59-1.43-.59-.52 0-1.04.2-1.43.59L10.3 9.45l-7.72 7.72c-.78.78-.78 2.05 0 2.83L4 21.41c.39.39.9.59 1.41.59.51 0 1.02-.2 1.41-.59l7.78-7.78 2.81-2.81c.8-.78.8-2.07 0-2.86zM5.41 20L4 18.59l7.72-7.72 1.47 1.35L5.41 20z\"/>\n",
              "  </svg>\n",
              "      </button>\n",
              "      \n",
              "  <style>\n",
              "    .colab-df-container {\n",
              "      display:flex;\n",
              "      flex-wrap:wrap;\n",
              "      gap: 12px;\n",
              "    }\n",
              "\n",
              "    .colab-df-convert {\n",
              "      background-color: #E8F0FE;\n",
              "      border: none;\n",
              "      border-radius: 50%;\n",
              "      cursor: pointer;\n",
              "      display: none;\n",
              "      fill: #1967D2;\n",
              "      height: 32px;\n",
              "      padding: 0 0 0 0;\n",
              "      width: 32px;\n",
              "    }\n",
              "\n",
              "    .colab-df-convert:hover {\n",
              "      background-color: #E2EBFA;\n",
              "      box-shadow: 0px 1px 2px rgba(60, 64, 67, 0.3), 0px 1px 3px 1px rgba(60, 64, 67, 0.15);\n",
              "      fill: #174EA6;\n",
              "    }\n",
              "\n",
              "    [theme=dark] .colab-df-convert {\n",
              "      background-color: #3B4455;\n",
              "      fill: #D2E3FC;\n",
              "    }\n",
              "\n",
              "    [theme=dark] .colab-df-convert:hover {\n",
              "      background-color: #434B5C;\n",
              "      box-shadow: 0px 1px 3px 1px rgba(0, 0, 0, 0.15);\n",
              "      filter: drop-shadow(0px 1px 2px rgba(0, 0, 0, 0.3));\n",
              "      fill: #FFFFFF;\n",
              "    }\n",
              "  </style>\n",
              "\n",
              "      <script>\n",
              "        const buttonEl =\n",
              "          document.querySelector('#df-176decdb-ba2e-4eb9-9437-81c6a8e8b323 button.colab-df-convert');\n",
              "        buttonEl.style.display =\n",
              "          google.colab.kernel.accessAllowed ? 'block' : 'none';\n",
              "\n",
              "        async function convertToInteractive(key) {\n",
              "          const element = document.querySelector('#df-176decdb-ba2e-4eb9-9437-81c6a8e8b323');\n",
              "          const dataTable =\n",
              "            await google.colab.kernel.invokeFunction('convertToInteractive',\n",
              "                                                     [key], {});\n",
              "          if (!dataTable) return;\n",
              "\n",
              "          const docLinkHtml = 'Like what you see? Visit the ' +\n",
              "            '<a target=\"_blank\" href=https://colab.research.google.com/notebooks/data_table.ipynb>data table notebook</a>'\n",
              "            + ' to learn more about interactive tables.';\n",
              "          element.innerHTML = '';\n",
              "          dataTable['output_type'] = 'display_data';\n",
              "          await google.colab.output.renderOutput(dataTable, element);\n",
              "          const docLink = document.createElement('div');\n",
              "          docLink.innerHTML = docLinkHtml;\n",
              "          element.appendChild(docLink);\n",
              "        }\n",
              "      </script>\n",
              "    </div>\n",
              "  </div>\n",
              "  "
            ]
          },
          "metadata": {},
          "execution_count": 20
        }
      ]
    },
    {
      "cell_type": "code",
      "source": [
        "len_tb_objcons = obj_cons.astype(str).apply(lambda x:x.str.len()).max()\n",
        "len_tb_objcons"
      ],
      "metadata": {
        "colab": {
          "base_uri": "https://localhost:8080/"
        },
        "id": "xC0IZRwpRpw8",
        "outputId": "bc175f97-cf42-4537-91a8-3eba5213ae28"
      },
      "execution_count": null,
      "outputs": [
        {
          "output_type": "execute_result",
          "data": {
            "text/plain": [
              "objectID          6\n",
              "constituentID     5\n",
              "displayOrder      2\n",
              "roleType          6\n",
              "role             25\n",
              "prefix           34\n",
              "suffix           64\n",
              "displayDate      28\n",
              "beginyear         7\n",
              "endyear           6\n",
              "country          43\n",
              "zipcode          10\n",
              "dtype: int64"
            ]
          },
          "metadata": {},
          "execution_count": 75
        }
      ]
    },
    {
      "cell_type": "markdown",
      "source": [
        "CHECK LOCATIONS"
      ],
      "metadata": {
        "id": "qSlzTn6iOJS7"
      }
    },
    {
      "cell_type": "code",
      "source": [
        "columns_locations = ['locationID','site','room','publicAccess','description','unitPosition']\n",
        "locations = pd.read_csv('/content/locations.csv', header=None, names = columns_locations)\n",
        "locations = locations.loc[1:,:]\n",
        "locations.head()\n",
        "locations.size"
      ],
      "metadata": {
        "colab": {
          "base_uri": "https://localhost:8080/"
        },
        "id": "02nMx5OJOLfU",
        "outputId": "ef8020e7-ae75-4582-e409-445881d193e7"
      },
      "execution_count": 7,
      "outputs": [
        {
          "output_type": "execute_result",
          "data": {
            "text/plain": [
              "6498"
            ]
          },
          "metadata": {},
          "execution_count": 7
        }
      ]
    },
    {
      "cell_type": "code",
      "source": [
        "len_tb_locations = locations.astype(str).apply(lambda x:x.str.len()).max()\n",
        "len_tb_locations"
      ],
      "metadata": {
        "colab": {
          "base_uri": "https://localhost:8080/"
        },
        "id": "VVuaVCmYO6KF",
        "outputId": "60a3147c-52ef-49fc-caa4-858065ad8d4f"
      },
      "execution_count": null,
      "outputs": [
        {
          "output_type": "execute_result",
          "data": {
            "text/plain": [
              "locationID       5\n",
              "site            22\n",
              "room             8\n",
              "publicAccess     1\n",
              "description     47\n",
              "unitPosition    15\n",
              "dtype: int64"
            ]
          },
          "metadata": {},
          "execution_count": 70
        }
      ]
    },
    {
      "cell_type": "code",
      "source": [
        "longest_locations_str = locations.loc[locations['description'].str.len()>=47,'description']\n",
        "print(longest_locations_str.values)"
      ],
      "metadata": {
        "colab": {
          "base_uri": "https://localhost:8080/"
        },
        "id": "v5E9RRyHPEpZ",
        "outputId": "cd0a6a3a-aa20-4352-fde6-48cf4ecdafb1"
      },
      "execution_count": null,
      "outputs": [
        {
          "output_type": "stream",
          "name": "stdout",
          "text": [
            "['East Bldg, Upr Lvl Stairway 407X (North Bridge)'\n",
            " 'East Bldg, Upr Lvl Stairway 407X (North Bridge)']\n"
          ]
        }
      ]
    },
    {
      "cell_type": "markdown",
      "source": [
        "CHECK PUBLISHED_IMAGES"
      ],
      "metadata": {
        "id": "Atmls0qlULnu"
      }
    },
    {
      "cell_type": "code",
      "source": [
        "columns_published_images = ['uuid','iiifurl','iiifthumburl','viewtype','sequence','width','height','maxpixels','created','modified','depictstmsObjectID','assistiveText']\n",
        "published_images = pd.read_csv('/content/published_images.csv', header=1, names = columns_published_images)\n",
        "published_images.head()\n",
        "published_images.size"
      ],
      "metadata": {
        "colab": {
          "base_uri": "https://localhost:8080/"
        },
        "id": "CQ_foLeZUOPY",
        "outputId": "fb7892f4-dc87-4730-f1c9-266a6011bbfd"
      },
      "execution_count": 10,
      "outputs": [
        {
          "output_type": "execute_result",
          "data": {
            "text/plain": [
              "1254048"
            ]
          },
          "metadata": {},
          "execution_count": 10
        }
      ]
    },
    {
      "cell_type": "code",
      "source": [
        "published_images.loc[published_images[\"depictstmsObjectID\"]==17387]\n"
      ],
      "metadata": {
        "colab": {
          "base_uri": "https://localhost:8080/",
          "height": 197
        },
        "id": "M1eK_lJNrHA1",
        "outputId": "61438282-6f0f-4695-9080-9cb3c06d6453"
      },
      "execution_count": null,
      "outputs": [
        {
          "output_type": "execute_result",
          "data": {
            "text/plain": [
              "                                   uuid  \\\n",
              "0  00007f61-4922-417b-8f27-893ea328206c   \n",
              "\n",
              "                                             iiifurl  \\\n",
              "0  https://api.nga.gov/iiif/00007f61-4922-417b-8f...   \n",
              "\n",
              "                                        iiifthumburl viewtype  sequence  \\\n",
              "0  https://api.nga.gov/iiif/00007f61-4922-417b-8f...  primary       0.0   \n",
              "\n",
              "   width  height  maxpixels                 created                modified  \\\n",
              "0   3365    4332        NaN  2013-07-05 15:41:08-04  2022-05-23 14:59:28-04   \n",
              "\n",
              "   depictstmsObjectID assistiveText  \n",
              "0               17387           NaN  "
            ],
            "text/html": [
              "\n",
              "  <div id=\"df-f59c9351-a266-4554-a692-970f5ed8ecd9\">\n",
              "    <div class=\"colab-df-container\">\n",
              "      <div>\n",
              "<style scoped>\n",
              "    .dataframe tbody tr th:only-of-type {\n",
              "        vertical-align: middle;\n",
              "    }\n",
              "\n",
              "    .dataframe tbody tr th {\n",
              "        vertical-align: top;\n",
              "    }\n",
              "\n",
              "    .dataframe thead th {\n",
              "        text-align: right;\n",
              "    }\n",
              "</style>\n",
              "<table border=\"1\" class=\"dataframe\">\n",
              "  <thead>\n",
              "    <tr style=\"text-align: right;\">\n",
              "      <th></th>\n",
              "      <th>uuid</th>\n",
              "      <th>iiifurl</th>\n",
              "      <th>iiifthumburl</th>\n",
              "      <th>viewtype</th>\n",
              "      <th>sequence</th>\n",
              "      <th>width</th>\n",
              "      <th>height</th>\n",
              "      <th>maxpixels</th>\n",
              "      <th>created</th>\n",
              "      <th>modified</th>\n",
              "      <th>depictstmsObjectID</th>\n",
              "      <th>assistiveText</th>\n",
              "    </tr>\n",
              "  </thead>\n",
              "  <tbody>\n",
              "    <tr>\n",
              "      <th>0</th>\n",
              "      <td>00007f61-4922-417b-8f27-893ea328206c</td>\n",
              "      <td>https://api.nga.gov/iiif/00007f61-4922-417b-8f...</td>\n",
              "      <td>https://api.nga.gov/iiif/00007f61-4922-417b-8f...</td>\n",
              "      <td>primary</td>\n",
              "      <td>0.0</td>\n",
              "      <td>3365</td>\n",
              "      <td>4332</td>\n",
              "      <td>NaN</td>\n",
              "      <td>2013-07-05 15:41:08-04</td>\n",
              "      <td>2022-05-23 14:59:28-04</td>\n",
              "      <td>17387</td>\n",
              "      <td>NaN</td>\n",
              "    </tr>\n",
              "  </tbody>\n",
              "</table>\n",
              "</div>\n",
              "      <button class=\"colab-df-convert\" onclick=\"convertToInteractive('df-f59c9351-a266-4554-a692-970f5ed8ecd9')\"\n",
              "              title=\"Convert this dataframe to an interactive table.\"\n",
              "              style=\"display:none;\">\n",
              "        \n",
              "  <svg xmlns=\"http://www.w3.org/2000/svg\" height=\"24px\"viewBox=\"0 0 24 24\"\n",
              "       width=\"24px\">\n",
              "    <path d=\"M0 0h24v24H0V0z\" fill=\"none\"/>\n",
              "    <path d=\"M18.56 5.44l.94 2.06.94-2.06 2.06-.94-2.06-.94-.94-2.06-.94 2.06-2.06.94zm-11 1L8.5 8.5l.94-2.06 2.06-.94-2.06-.94L8.5 2.5l-.94 2.06-2.06.94zm10 10l.94 2.06.94-2.06 2.06-.94-2.06-.94-.94-2.06-.94 2.06-2.06.94z\"/><path d=\"M17.41 7.96l-1.37-1.37c-.4-.4-.92-.59-1.43-.59-.52 0-1.04.2-1.43.59L10.3 9.45l-7.72 7.72c-.78.78-.78 2.05 0 2.83L4 21.41c.39.39.9.59 1.41.59.51 0 1.02-.2 1.41-.59l7.78-7.78 2.81-2.81c.8-.78.8-2.07 0-2.86zM5.41 20L4 18.59l7.72-7.72 1.47 1.35L5.41 20z\"/>\n",
              "  </svg>\n",
              "      </button>\n",
              "      \n",
              "  <style>\n",
              "    .colab-df-container {\n",
              "      display:flex;\n",
              "      flex-wrap:wrap;\n",
              "      gap: 12px;\n",
              "    }\n",
              "\n",
              "    .colab-df-convert {\n",
              "      background-color: #E8F0FE;\n",
              "      border: none;\n",
              "      border-radius: 50%;\n",
              "      cursor: pointer;\n",
              "      display: none;\n",
              "      fill: #1967D2;\n",
              "      height: 32px;\n",
              "      padding: 0 0 0 0;\n",
              "      width: 32px;\n",
              "    }\n",
              "\n",
              "    .colab-df-convert:hover {\n",
              "      background-color: #E2EBFA;\n",
              "      box-shadow: 0px 1px 2px rgba(60, 64, 67, 0.3), 0px 1px 3px 1px rgba(60, 64, 67, 0.15);\n",
              "      fill: #174EA6;\n",
              "    }\n",
              "\n",
              "    [theme=dark] .colab-df-convert {\n",
              "      background-color: #3B4455;\n",
              "      fill: #D2E3FC;\n",
              "    }\n",
              "\n",
              "    [theme=dark] .colab-df-convert:hover {\n",
              "      background-color: #434B5C;\n",
              "      box-shadow: 0px 1px 3px 1px rgba(0, 0, 0, 0.15);\n",
              "      filter: drop-shadow(0px 1px 2px rgba(0, 0, 0, 0.3));\n",
              "      fill: #FFFFFF;\n",
              "    }\n",
              "  </style>\n",
              "\n",
              "      <script>\n",
              "        const buttonEl =\n",
              "          document.querySelector('#df-f59c9351-a266-4554-a692-970f5ed8ecd9 button.colab-df-convert');\n",
              "        buttonEl.style.display =\n",
              "          google.colab.kernel.accessAllowed ? 'block' : 'none';\n",
              "\n",
              "        async function convertToInteractive(key) {\n",
              "          const element = document.querySelector('#df-f59c9351-a266-4554-a692-970f5ed8ecd9');\n",
              "          const dataTable =\n",
              "            await google.colab.kernel.invokeFunction('convertToInteractive',\n",
              "                                                     [key], {});\n",
              "          if (!dataTable) return;\n",
              "\n",
              "          const docLinkHtml = 'Like what you see? Visit the ' +\n",
              "            '<a target=\"_blank\" href=https://colab.research.google.com/notebooks/data_table.ipynb>data table notebook</a>'\n",
              "            + ' to learn more about interactive tables.';\n",
              "          element.innerHTML = '';\n",
              "          dataTable['output_type'] = 'display_data';\n",
              "          await google.colab.output.renderOutput(dataTable, element);\n",
              "          const docLink = document.createElement('div');\n",
              "          docLink.innerHTML = docLinkHtml;\n",
              "          element.appendChild(docLink);\n",
              "        }\n",
              "      </script>\n",
              "    </div>\n",
              "  </div>\n",
              "  "
            ]
          },
          "metadata": {},
          "execution_count": 25
        }
      ]
    },
    {
      "cell_type": "code",
      "source": [
        "len_tb_published_images = published_images.astype(str).apply(lambda x:x.str.len()).max()\n",
        "len_tb_published_images"
      ],
      "metadata": {
        "colab": {
          "base_uri": "https://localhost:8080/"
        },
        "id": "ZvciE5p-VRnf",
        "outputId": "9ac26ce1-5f44-49a5-ac87-0309acd8a3ce"
      },
      "execution_count": null,
      "outputs": [
        {
          "output_type": "execute_result",
          "data": {
            "text/plain": [
              "uuid                    36\n",
              "iiifurl                 61\n",
              "iiifthumburl            89\n",
              "viewtype                 9\n",
              "sequence                 3\n",
              "width                    6\n",
              "height                   5\n",
              "maxpixels                5\n",
              "created                 22\n",
              "modified                26\n",
              "depictstmsObjectID       6\n",
              "assistiveText         4192\n",
              "dtype: int64"
            ]
          },
          "metadata": {},
          "execution_count": 77
        }
      ]
    },
    {
      "cell_type": "code",
      "source": [
        "longest_published_images = published_images.loc[published_images['assistiveText'].str.len()>=4192,'assistiveText']\n",
        "longest_published_images = published_images.loc[published_images['assistiveText'].str.len()>=4192,:]\n",
        "longest_published_images\n",
        "#print(longest_published_images.values)"
      ],
      "metadata": {
        "colab": {
          "base_uri": "https://localhost:8080/",
          "height": 197
        },
        "id": "2PCFyJAjV5U7",
        "outputId": "8b20afcd-7799-48fd-bf8f-968f6faf2f84"
      },
      "execution_count": null,
      "outputs": [
        {
          "output_type": "execute_result",
          "data": {
            "text/plain": [
              "                                       uuid  \\\n",
              "64459  9d65469d-7f64-4f58-8123-527ba3865458   \n",
              "\n",
              "                                                 iiifurl  \\\n",
              "64459  https://api.nga.gov/iiif/9d65469d-7f64-4f58-81...   \n",
              "\n",
              "                                            iiifthumburl viewtype sequence  \\\n",
              "64459  https://api.nga.gov/iiif/9d65469d-7f64-4f58-81...  primary        0   \n",
              "\n",
              "      width height maxpixels                 created                modified  \\\n",
              "64459  6007   3489       NaN  2009-03-24 13:12:44-04  2022-08-31 12:02:29-04   \n",
              "\n",
              "      depictstmsObjectID                                      assistiveText  \n",
              "64459                321  Dozens of men, women, and a few children gathe...  "
            ],
            "text/html": [
              "\n",
              "  <div id=\"df-9a58b384-6343-453e-b58f-3b6e21583955\">\n",
              "    <div class=\"colab-df-container\">\n",
              "      <div>\n",
              "<style scoped>\n",
              "    .dataframe tbody tr th:only-of-type {\n",
              "        vertical-align: middle;\n",
              "    }\n",
              "\n",
              "    .dataframe tbody tr th {\n",
              "        vertical-align: top;\n",
              "    }\n",
              "\n",
              "    .dataframe thead th {\n",
              "        text-align: right;\n",
              "    }\n",
              "</style>\n",
              "<table border=\"1\" class=\"dataframe\">\n",
              "  <thead>\n",
              "    <tr style=\"text-align: right;\">\n",
              "      <th></th>\n",
              "      <th>uuid</th>\n",
              "      <th>iiifurl</th>\n",
              "      <th>iiifthumburl</th>\n",
              "      <th>viewtype</th>\n",
              "      <th>sequence</th>\n",
              "      <th>width</th>\n",
              "      <th>height</th>\n",
              "      <th>maxpixels</th>\n",
              "      <th>created</th>\n",
              "      <th>modified</th>\n",
              "      <th>depictstmsObjectID</th>\n",
              "      <th>assistiveText</th>\n",
              "    </tr>\n",
              "  </thead>\n",
              "  <tbody>\n",
              "    <tr>\n",
              "      <th>64459</th>\n",
              "      <td>9d65469d-7f64-4f58-8123-527ba3865458</td>\n",
              "      <td>https://api.nga.gov/iiif/9d65469d-7f64-4f58-81...</td>\n",
              "      <td>https://api.nga.gov/iiif/9d65469d-7f64-4f58-81...</td>\n",
              "      <td>primary</td>\n",
              "      <td>0</td>\n",
              "      <td>6007</td>\n",
              "      <td>3489</td>\n",
              "      <td>NaN</td>\n",
              "      <td>2009-03-24 13:12:44-04</td>\n",
              "      <td>2022-08-31 12:02:29-04</td>\n",
              "      <td>321</td>\n",
              "      <td>Dozens of men, women, and a few children gathe...</td>\n",
              "    </tr>\n",
              "  </tbody>\n",
              "</table>\n",
              "</div>\n",
              "      <button class=\"colab-df-convert\" onclick=\"convertToInteractive('df-9a58b384-6343-453e-b58f-3b6e21583955')\"\n",
              "              title=\"Convert this dataframe to an interactive table.\"\n",
              "              style=\"display:none;\">\n",
              "        \n",
              "  <svg xmlns=\"http://www.w3.org/2000/svg\" height=\"24px\"viewBox=\"0 0 24 24\"\n",
              "       width=\"24px\">\n",
              "    <path d=\"M0 0h24v24H0V0z\" fill=\"none\"/>\n",
              "    <path d=\"M18.56 5.44l.94 2.06.94-2.06 2.06-.94-2.06-.94-.94-2.06-.94 2.06-2.06.94zm-11 1L8.5 8.5l.94-2.06 2.06-.94-2.06-.94L8.5 2.5l-.94 2.06-2.06.94zm10 10l.94 2.06.94-2.06 2.06-.94-2.06-.94-.94-2.06-.94 2.06-2.06.94z\"/><path d=\"M17.41 7.96l-1.37-1.37c-.4-.4-.92-.59-1.43-.59-.52 0-1.04.2-1.43.59L10.3 9.45l-7.72 7.72c-.78.78-.78 2.05 0 2.83L4 21.41c.39.39.9.59 1.41.59.51 0 1.02-.2 1.41-.59l7.78-7.78 2.81-2.81c.8-.78.8-2.07 0-2.86zM5.41 20L4 18.59l7.72-7.72 1.47 1.35L5.41 20z\"/>\n",
              "  </svg>\n",
              "      </button>\n",
              "      \n",
              "  <style>\n",
              "    .colab-df-container {\n",
              "      display:flex;\n",
              "      flex-wrap:wrap;\n",
              "      gap: 12px;\n",
              "    }\n",
              "\n",
              "    .colab-df-convert {\n",
              "      background-color: #E8F0FE;\n",
              "      border: none;\n",
              "      border-radius: 50%;\n",
              "      cursor: pointer;\n",
              "      display: none;\n",
              "      fill: #1967D2;\n",
              "      height: 32px;\n",
              "      padding: 0 0 0 0;\n",
              "      width: 32px;\n",
              "    }\n",
              "\n",
              "    .colab-df-convert:hover {\n",
              "      background-color: #E2EBFA;\n",
              "      box-shadow: 0px 1px 2px rgba(60, 64, 67, 0.3), 0px 1px 3px 1px rgba(60, 64, 67, 0.15);\n",
              "      fill: #174EA6;\n",
              "    }\n",
              "\n",
              "    [theme=dark] .colab-df-convert {\n",
              "      background-color: #3B4455;\n",
              "      fill: #D2E3FC;\n",
              "    }\n",
              "\n",
              "    [theme=dark] .colab-df-convert:hover {\n",
              "      background-color: #434B5C;\n",
              "      box-shadow: 0px 1px 3px 1px rgba(0, 0, 0, 0.15);\n",
              "      filter: drop-shadow(0px 1px 2px rgba(0, 0, 0, 0.3));\n",
              "      fill: #FFFFFF;\n",
              "    }\n",
              "  </style>\n",
              "\n",
              "      <script>\n",
              "        const buttonEl =\n",
              "          document.querySelector('#df-9a58b384-6343-453e-b58f-3b6e21583955 button.colab-df-convert');\n",
              "        buttonEl.style.display =\n",
              "          google.colab.kernel.accessAllowed ? 'block' : 'none';\n",
              "\n",
              "        async function convertToInteractive(key) {\n",
              "          const element = document.querySelector('#df-9a58b384-6343-453e-b58f-3b6e21583955');\n",
              "          const dataTable =\n",
              "            await google.colab.kernel.invokeFunction('convertToInteractive',\n",
              "                                                     [key], {});\n",
              "          if (!dataTable) return;\n",
              "\n",
              "          const docLinkHtml = 'Like what you see? Visit the ' +\n",
              "            '<a target=\"_blank\" href=https://colab.research.google.com/notebooks/data_table.ipynb>data table notebook</a>'\n",
              "            + ' to learn more about interactive tables.';\n",
              "          element.innerHTML = '';\n",
              "          dataTable['output_type'] = 'display_data';\n",
              "          await google.colab.output.renderOutput(dataTable, element);\n",
              "          const docLink = document.createElement('div');\n",
              "          docLink.innerHTML = docLinkHtml;\n",
              "          element.appendChild(docLink);\n",
              "        }\n",
              "      </script>\n",
              "    </div>\n",
              "  </div>\n",
              "  "
            ]
          },
          "metadata": {},
          "execution_count": 80
        }
      ]
    },
    {
      "cell_type": "code",
      "source": [
        "obj_cons.describe()"
      ],
      "metadata": {
        "colab": {
          "base_uri": "https://localhost:8080/",
          "height": 175
        },
        "id": "A6R-q-gCZc-O",
        "outputId": "cecc95be-d3bc-47a0-9a96-cee2215726a7"
      },
      "execution_count": null,
      "outputs": [
        {
          "output_type": "execute_result",
          "data": {
            "text/plain": [
              "        objectID  constituentID  displayOrder roleType            role prefix  \\\n",
              "count     798353         798353        798353   798353          798353   7436   \n",
              "unique    137957          30403           108        3              56    120   \n",
              "top        30232             12             1    owner  previous owner    and   \n",
              "freq          74         126434        378373   326548          188644   3083   \n",
              "\n",
              "                    suffix displayDate  beginyear   endyear        country  \\\n",
              "count                56909      249330   143733.0  142796.0         225948   \n",
              "unique                1130        7557      725.0     690.0             28   \n",
              "top     , Philadelphia, PA      1943 -     1943.0    1943.0  United States   \n",
              "freq                 24973       27363    24899.0   24894.0         209314   \n",
              "\n",
              "       zipcode  \n",
              "count   224387  \n",
              "unique    1014  \n",
              "top      20565  \n",
              "freq    105565  "
            ],
            "text/html": [
              "\n",
              "  <div id=\"df-f5630137-ee0a-4da4-a7e5-92eebc606466\">\n",
              "    <div class=\"colab-df-container\">\n",
              "      <div>\n",
              "<style scoped>\n",
              "    .dataframe tbody tr th:only-of-type {\n",
              "        vertical-align: middle;\n",
              "    }\n",
              "\n",
              "    .dataframe tbody tr th {\n",
              "        vertical-align: top;\n",
              "    }\n",
              "\n",
              "    .dataframe thead th {\n",
              "        text-align: right;\n",
              "    }\n",
              "</style>\n",
              "<table border=\"1\" class=\"dataframe\">\n",
              "  <thead>\n",
              "    <tr style=\"text-align: right;\">\n",
              "      <th></th>\n",
              "      <th>objectID</th>\n",
              "      <th>constituentID</th>\n",
              "      <th>displayOrder</th>\n",
              "      <th>roleType</th>\n",
              "      <th>role</th>\n",
              "      <th>prefix</th>\n",
              "      <th>suffix</th>\n",
              "      <th>displayDate</th>\n",
              "      <th>beginyear</th>\n",
              "      <th>endyear</th>\n",
              "      <th>country</th>\n",
              "      <th>zipcode</th>\n",
              "    </tr>\n",
              "  </thead>\n",
              "  <tbody>\n",
              "    <tr>\n",
              "      <th>count</th>\n",
              "      <td>798353</td>\n",
              "      <td>798353</td>\n",
              "      <td>798353</td>\n",
              "      <td>798353</td>\n",
              "      <td>798353</td>\n",
              "      <td>7436</td>\n",
              "      <td>56909</td>\n",
              "      <td>249330</td>\n",
              "      <td>143733.0</td>\n",
              "      <td>142796.0</td>\n",
              "      <td>225948</td>\n",
              "      <td>224387</td>\n",
              "    </tr>\n",
              "    <tr>\n",
              "      <th>unique</th>\n",
              "      <td>137957</td>\n",
              "      <td>30403</td>\n",
              "      <td>108</td>\n",
              "      <td>3</td>\n",
              "      <td>56</td>\n",
              "      <td>120</td>\n",
              "      <td>1130</td>\n",
              "      <td>7557</td>\n",
              "      <td>725.0</td>\n",
              "      <td>690.0</td>\n",
              "      <td>28</td>\n",
              "      <td>1014</td>\n",
              "    </tr>\n",
              "    <tr>\n",
              "      <th>top</th>\n",
              "      <td>30232</td>\n",
              "      <td>12</td>\n",
              "      <td>1</td>\n",
              "      <td>owner</td>\n",
              "      <td>previous owner</td>\n",
              "      <td>and</td>\n",
              "      <td>, Philadelphia, PA</td>\n",
              "      <td>1943 -</td>\n",
              "      <td>1943.0</td>\n",
              "      <td>1943.0</td>\n",
              "      <td>United States</td>\n",
              "      <td>20565</td>\n",
              "    </tr>\n",
              "    <tr>\n",
              "      <th>freq</th>\n",
              "      <td>74</td>\n",
              "      <td>126434</td>\n",
              "      <td>378373</td>\n",
              "      <td>326548</td>\n",
              "      <td>188644</td>\n",
              "      <td>3083</td>\n",
              "      <td>24973</td>\n",
              "      <td>27363</td>\n",
              "      <td>24899.0</td>\n",
              "      <td>24894.0</td>\n",
              "      <td>209314</td>\n",
              "      <td>105565</td>\n",
              "    </tr>\n",
              "  </tbody>\n",
              "</table>\n",
              "</div>\n",
              "      <button class=\"colab-df-convert\" onclick=\"convertToInteractive('df-f5630137-ee0a-4da4-a7e5-92eebc606466')\"\n",
              "              title=\"Convert this dataframe to an interactive table.\"\n",
              "              style=\"display:none;\">\n",
              "        \n",
              "  <svg xmlns=\"http://www.w3.org/2000/svg\" height=\"24px\"viewBox=\"0 0 24 24\"\n",
              "       width=\"24px\">\n",
              "    <path d=\"M0 0h24v24H0V0z\" fill=\"none\"/>\n",
              "    <path d=\"M18.56 5.44l.94 2.06.94-2.06 2.06-.94-2.06-.94-.94-2.06-.94 2.06-2.06.94zm-11 1L8.5 8.5l.94-2.06 2.06-.94-2.06-.94L8.5 2.5l-.94 2.06-2.06.94zm10 10l.94 2.06.94-2.06 2.06-.94-2.06-.94-.94-2.06-.94 2.06-2.06.94z\"/><path d=\"M17.41 7.96l-1.37-1.37c-.4-.4-.92-.59-1.43-.59-.52 0-1.04.2-1.43.59L10.3 9.45l-7.72 7.72c-.78.78-.78 2.05 0 2.83L4 21.41c.39.39.9.59 1.41.59.51 0 1.02-.2 1.41-.59l7.78-7.78 2.81-2.81c.8-.78.8-2.07 0-2.86zM5.41 20L4 18.59l7.72-7.72 1.47 1.35L5.41 20z\"/>\n",
              "  </svg>\n",
              "      </button>\n",
              "      \n",
              "  <style>\n",
              "    .colab-df-container {\n",
              "      display:flex;\n",
              "      flex-wrap:wrap;\n",
              "      gap: 12px;\n",
              "    }\n",
              "\n",
              "    .colab-df-convert {\n",
              "      background-color: #E8F0FE;\n",
              "      border: none;\n",
              "      border-radius: 50%;\n",
              "      cursor: pointer;\n",
              "      display: none;\n",
              "      fill: #1967D2;\n",
              "      height: 32px;\n",
              "      padding: 0 0 0 0;\n",
              "      width: 32px;\n",
              "    }\n",
              "\n",
              "    .colab-df-convert:hover {\n",
              "      background-color: #E2EBFA;\n",
              "      box-shadow: 0px 1px 2px rgba(60, 64, 67, 0.3), 0px 1px 3px 1px rgba(60, 64, 67, 0.15);\n",
              "      fill: #174EA6;\n",
              "    }\n",
              "\n",
              "    [theme=dark] .colab-df-convert {\n",
              "      background-color: #3B4455;\n",
              "      fill: #D2E3FC;\n",
              "    }\n",
              "\n",
              "    [theme=dark] .colab-df-convert:hover {\n",
              "      background-color: #434B5C;\n",
              "      box-shadow: 0px 1px 3px 1px rgba(0, 0, 0, 0.15);\n",
              "      filter: drop-shadow(0px 1px 2px rgba(0, 0, 0, 0.3));\n",
              "      fill: #FFFFFF;\n",
              "    }\n",
              "  </style>\n",
              "\n",
              "      <script>\n",
              "        const buttonEl =\n",
              "          document.querySelector('#df-f5630137-ee0a-4da4-a7e5-92eebc606466 button.colab-df-convert');\n",
              "        buttonEl.style.display =\n",
              "          google.colab.kernel.accessAllowed ? 'block' : 'none';\n",
              "\n",
              "        async function convertToInteractive(key) {\n",
              "          const element = document.querySelector('#df-f5630137-ee0a-4da4-a7e5-92eebc606466');\n",
              "          const dataTable =\n",
              "            await google.colab.kernel.invokeFunction('convertToInteractive',\n",
              "                                                     [key], {});\n",
              "          if (!dataTable) return;\n",
              "\n",
              "          const docLinkHtml = 'Like what you see? Visit the ' +\n",
              "            '<a target=\"_blank\" href=https://colab.research.google.com/notebooks/data_table.ipynb>data table notebook</a>'\n",
              "            + ' to learn more about interactive tables.';\n",
              "          element.innerHTML = '';\n",
              "          dataTable['output_type'] = 'display_data';\n",
              "          await google.colab.output.renderOutput(dataTable, element);\n",
              "          const docLink = document.createElement('div');\n",
              "          docLink.innerHTML = docLinkHtml;\n",
              "          element.appendChild(docLink);\n",
              "        }\n",
              "      </script>\n",
              "    </div>\n",
              "  </div>\n",
              "  "
            ]
          },
          "metadata": {},
          "execution_count": 91
        }
      ]
    },
    {
      "cell_type": "code",
      "source": [
        "obj_cons"
      ],
      "metadata": {
        "id": "TWEpVU7mlKCb"
      },
      "execution_count": null,
      "outputs": []
    },
    {
      "cell_type": "markdown",
      "source": [
        "Constituents_text"
      ],
      "metadata": {
        "id": "V9NuMePDp6_H"
      }
    },
    {
      "cell_type": "code",
      "source": [
        "columns_constituents_text = ['constituentID','text','texttype','year']\n",
        "constituents_text = pd.read_csv('/content/constituents_text_entries.csv', header=None, names = columns_constituents_text)\n",
        "constituents_text = constituents_text.iloc[1:,:]"
      ],
      "metadata": {
        "colab": {
          "base_uri": "https://localhost:8080/",
          "height": 206
        },
        "id": "zayqt3Wep8jp",
        "outputId": "bcbe6008-4112-4a88-9e86-8307c7d2895b"
      },
      "execution_count": null,
      "outputs": [
        {
          "output_type": "execute_result",
          "data": {
            "text/plain": [
              "  constituentID                                               text  \\\n",
              "1          1202  Sutton, Peter C., et al. _Masters of Seventeen...   \n",
              "2          1354  Sutton, Peter C., et al. _Masters of Seventeen...   \n",
              "3          1395  Sutton, Peter C., et al. _Masters of Seventeen...   \n",
              "4          1398  Sutton, Peter C., et al. _Masters of Seventeen...   \n",
              "5          1761  Sutton, Peter C., et al. _Masters of Seventeen...   \n",
              "\n",
              "       texttype  year  \n",
              "1  bibliography  1987  \n",
              "2  bibliography  1987  \n",
              "3  bibliography  1987  \n",
              "4  bibliography  1987  \n",
              "5  bibliography  1987  "
            ],
            "text/html": [
              "\n",
              "  <div id=\"df-0a0da426-1715-42c0-b8a6-64333957af12\">\n",
              "    <div class=\"colab-df-container\">\n",
              "      <div>\n",
              "<style scoped>\n",
              "    .dataframe tbody tr th:only-of-type {\n",
              "        vertical-align: middle;\n",
              "    }\n",
              "\n",
              "    .dataframe tbody tr th {\n",
              "        vertical-align: top;\n",
              "    }\n",
              "\n",
              "    .dataframe thead th {\n",
              "        text-align: right;\n",
              "    }\n",
              "</style>\n",
              "<table border=\"1\" class=\"dataframe\">\n",
              "  <thead>\n",
              "    <tr style=\"text-align: right;\">\n",
              "      <th></th>\n",
              "      <th>constituentID</th>\n",
              "      <th>text</th>\n",
              "      <th>texttype</th>\n",
              "      <th>year</th>\n",
              "    </tr>\n",
              "  </thead>\n",
              "  <tbody>\n",
              "    <tr>\n",
              "      <th>1</th>\n",
              "      <td>1202</td>\n",
              "      <td>Sutton, Peter C., et al. _Masters of Seventeen...</td>\n",
              "      <td>bibliography</td>\n",
              "      <td>1987</td>\n",
              "    </tr>\n",
              "    <tr>\n",
              "      <th>2</th>\n",
              "      <td>1354</td>\n",
              "      <td>Sutton, Peter C., et al. _Masters of Seventeen...</td>\n",
              "      <td>bibliography</td>\n",
              "      <td>1987</td>\n",
              "    </tr>\n",
              "    <tr>\n",
              "      <th>3</th>\n",
              "      <td>1395</td>\n",
              "      <td>Sutton, Peter C., et al. _Masters of Seventeen...</td>\n",
              "      <td>bibliography</td>\n",
              "      <td>1987</td>\n",
              "    </tr>\n",
              "    <tr>\n",
              "      <th>4</th>\n",
              "      <td>1398</td>\n",
              "      <td>Sutton, Peter C., et al. _Masters of Seventeen...</td>\n",
              "      <td>bibliography</td>\n",
              "      <td>1987</td>\n",
              "    </tr>\n",
              "    <tr>\n",
              "      <th>5</th>\n",
              "      <td>1761</td>\n",
              "      <td>Sutton, Peter C., et al. _Masters of Seventeen...</td>\n",
              "      <td>bibliography</td>\n",
              "      <td>1987</td>\n",
              "    </tr>\n",
              "  </tbody>\n",
              "</table>\n",
              "</div>\n",
              "      <button class=\"colab-df-convert\" onclick=\"convertToInteractive('df-0a0da426-1715-42c0-b8a6-64333957af12')\"\n",
              "              title=\"Convert this dataframe to an interactive table.\"\n",
              "              style=\"display:none;\">\n",
              "        \n",
              "  <svg xmlns=\"http://www.w3.org/2000/svg\" height=\"24px\"viewBox=\"0 0 24 24\"\n",
              "       width=\"24px\">\n",
              "    <path d=\"M0 0h24v24H0V0z\" fill=\"none\"/>\n",
              "    <path d=\"M18.56 5.44l.94 2.06.94-2.06 2.06-.94-2.06-.94-.94-2.06-.94 2.06-2.06.94zm-11 1L8.5 8.5l.94-2.06 2.06-.94-2.06-.94L8.5 2.5l-.94 2.06-2.06.94zm10 10l.94 2.06.94-2.06 2.06-.94-2.06-.94-.94-2.06-.94 2.06-2.06.94z\"/><path d=\"M17.41 7.96l-1.37-1.37c-.4-.4-.92-.59-1.43-.59-.52 0-1.04.2-1.43.59L10.3 9.45l-7.72 7.72c-.78.78-.78 2.05 0 2.83L4 21.41c.39.39.9.59 1.41.59.51 0 1.02-.2 1.41-.59l7.78-7.78 2.81-2.81c.8-.78.8-2.07 0-2.86zM5.41 20L4 18.59l7.72-7.72 1.47 1.35L5.41 20z\"/>\n",
              "  </svg>\n",
              "      </button>\n",
              "      \n",
              "  <style>\n",
              "    .colab-df-container {\n",
              "      display:flex;\n",
              "      flex-wrap:wrap;\n",
              "      gap: 12px;\n",
              "    }\n",
              "\n",
              "    .colab-df-convert {\n",
              "      background-color: #E8F0FE;\n",
              "      border: none;\n",
              "      border-radius: 50%;\n",
              "      cursor: pointer;\n",
              "      display: none;\n",
              "      fill: #1967D2;\n",
              "      height: 32px;\n",
              "      padding: 0 0 0 0;\n",
              "      width: 32px;\n",
              "    }\n",
              "\n",
              "    .colab-df-convert:hover {\n",
              "      background-color: #E2EBFA;\n",
              "      box-shadow: 0px 1px 2px rgba(60, 64, 67, 0.3), 0px 1px 3px 1px rgba(60, 64, 67, 0.15);\n",
              "      fill: #174EA6;\n",
              "    }\n",
              "\n",
              "    [theme=dark] .colab-df-convert {\n",
              "      background-color: #3B4455;\n",
              "      fill: #D2E3FC;\n",
              "    }\n",
              "\n",
              "    [theme=dark] .colab-df-convert:hover {\n",
              "      background-color: #434B5C;\n",
              "      box-shadow: 0px 1px 3px 1px rgba(0, 0, 0, 0.15);\n",
              "      filter: drop-shadow(0px 1px 2px rgba(0, 0, 0, 0.3));\n",
              "      fill: #FFFFFF;\n",
              "    }\n",
              "  </style>\n",
              "\n",
              "      <script>\n",
              "        const buttonEl =\n",
              "          document.querySelector('#df-0a0da426-1715-42c0-b8a6-64333957af12 button.colab-df-convert');\n",
              "        buttonEl.style.display =\n",
              "          google.colab.kernel.accessAllowed ? 'block' : 'none';\n",
              "\n",
              "        async function convertToInteractive(key) {\n",
              "          const element = document.querySelector('#df-0a0da426-1715-42c0-b8a6-64333957af12');\n",
              "          const dataTable =\n",
              "            await google.colab.kernel.invokeFunction('convertToInteractive',\n",
              "                                                     [key], {});\n",
              "          if (!dataTable) return;\n",
              "\n",
              "          const docLinkHtml = 'Like what you see? Visit the ' +\n",
              "            '<a target=\"_blank\" href=https://colab.research.google.com/notebooks/data_table.ipynb>data table notebook</a>'\n",
              "            + ' to learn more about interactive tables.';\n",
              "          element.innerHTML = '';\n",
              "          dataTable['output_type'] = 'display_data';\n",
              "          await google.colab.output.renderOutput(dataTable, element);\n",
              "          const docLink = document.createElement('div');\n",
              "          docLink.innerHTML = docLinkHtml;\n",
              "          element.appendChild(docLink);\n",
              "        }\n",
              "      </script>\n",
              "    </div>\n",
              "  </div>\n",
              "  "
            ]
          },
          "metadata": {},
          "execution_count": 40
        }
      ]
    },
    {
      "cell_type": "code",
      "source": [],
      "metadata": {
        "id": "To-rfT-ArqbJ"
      },
      "execution_count": null,
      "outputs": []
    }
  ]
}